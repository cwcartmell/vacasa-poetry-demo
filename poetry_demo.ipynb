{
 "cells": [
  {
   "cell_type": "markdown",
   "id": "efc60da2-64ed-49a9-9a3e-ec542f73c829",
   "metadata": {
    "tags": []
   },
   "source": [
    "## The Problem\n",
    "\n",
    "Pip makes it easy to install packages, but it doesn't make it easy to manage the dependencies between packages. For example, lets say you try to install two packages, the latest version of package A and the latest version of package B. If both of them rely on different versions of package C, then you won't be able to install them together.\n",
    "\n",
    "In order to solve this problem, you could find a version of package A and a version of package B that have compatible package C requirements. This is pretty easy in this three-package example. However, most python packages have many dependencies, which in turn have many dependencies, which in turn have many dependencies etc. You can imagine that determining the exact right combination of dependencies could get far too complicated for a human very fast.\n",
    "\n",
    "Another issue with pip is managing dependencies of different Python projects over time. Say you write some code with a large number of dependencies that works great and doesn't need to be updated for years. Fast forward a couple years and one of the dependencies for that code has several new features that you want to use for a new project. You update the dependency and immediately find that your years-old code that was entirely reliable now doesn't work.\n",
    "\n",
    "## Enter Poetry (and pyenv!)\n",
    "\n",
    "### pyenv\n",
    "\n",
    "[pyenv](https://github.com/pyenv/pyenv) does one thing: it allows you to manage many versions of python on your machine at the same time. I'm not going to show you how to install it, but if you like you can go to [the pyenv github](https://github.com/pyenv/pyenv) or read our [installing dbt guide](https://data.vacasa.services/tools/dbt/installing_dbt/#installing-and-using-pyenv)."
   ]
  },
  {
   "cell_type": "code",
   "execution_count": 7,
   "id": "a6440257-b99c-4868-bc61-f8dd957e963b",
   "metadata": {
    "tags": []
   },
   "outputs": [
    {
     "name": "stdout",
     "output_type": "stream",
     "text": [
      "  system\n",
      "  3.8.13\n",
      "  3.9.7\n",
      "  3.9.9\n",
      "  3.9.15\n",
      "  3.9.16\n",
      "* 3.10.6 (set by PYENV_VERSION environment variable)\n"
     ]
    }
   ],
   "source": [
    "pyenv versions"
   ]
  },
  {
   "cell_type": "code",
   "execution_count": 9,
   "id": "ca4095db-ef4e-44c2-9d75-de60d5729453",
   "metadata": {
    "tags": []
   },
   "outputs": [
    {
     "name": "stdout",
     "output_type": "stream",
     "text": [
      "  3.10.0\n",
      "  3.10-dev\n",
      "  3.10.1\n",
      "  3.10.2\n",
      "  3.10.3\n",
      "  3.10.4\n",
      "  3.10.5\n",
      "  3.10.6\n",
      "  3.10.7\n",
      "  3.10.8\n",
      "  3.10.9\n",
      "  mambaforge-4.10.3-10\n",
      "  miniconda-3.10.1\n",
      "  miniconda3-3.10.1\n",
      "  miniforge3-4.10.3-10\n",
      "  pypy2.7-7.3.10-src\n",
      "  pypy2.7-7.3.10\n",
      "  pypy3.8-7.3.10-src\n",
      "  pypy3.8-7.3.10\n",
      "  pypy3.9-7.3.10-src\n",
      "  pypy3.9-7.3.10\n"
     ]
    }
   ],
   "source": [
    "pyenv install --list | grep \"3.10\""
   ]
  },
  {
   "cell_type": "code",
   "execution_count": null,
   "id": "9ec861aa-437a-4788-a5c4-1d293d90a188",
   "metadata": {},
   "outputs": [],
   "source": [
    "# pyenv install 3.10.9"
   ]
  },
  {
   "cell_type": "markdown",
   "id": "23266a48-90df-438e-9fce-354f62d25f0b",
   "metadata": {},
   "source": [
    "You can use pyenv to specify a python version to use in your current shell session, globally, or within a certain directory:"
   ]
  },
  {
   "cell_type": "code",
   "execution_count": null,
   "id": "fa505a10-5ec3-4dbf-beae-d8042c42661d",
   "metadata": {},
   "outputs": [],
   "source": [
    "# pyenv local 3.10.9\n",
    "# pyenv global 3.10.9\n",
    "# pyenv shell 3.10.9"
   ]
  },
  {
   "cell_type": "markdown",
   "id": "5707ea69-2fa5-474f-a3fc-abc7f39ba990",
   "metadata": {
    "tags": []
   },
   "source": [
    "### Poetry\n",
    "\n",
    "From the [docs](https://python-poetry.org/docs/):\n",
    "\n",
    "> Poetry is a tool for dependency management and packaging in Python. It allows you to declare the libraries your project depends on and it will manage (install/update) them for you. Poetry offers a lockfile to ensure repeatable installs, and can build your project for distribution.\n",
    "\n",
    "Let's break this down.\n",
    "\n",
    "\"Packaging in Python\" refers to creating python packages (think pandas) and publishing them to [pypi.org](pypi.org). We don't care about this for the purposes of this demo. We care about dependency management.\n",
    "\n",
    "\"It allows you to declare the libraries your project depends on\" means that you can list the package that an individual project needs to run.\n",
    "\n",
    "\"Poetry offers a lockfile\" means that once you declare the packages that your project needs, poetry will go about figuring out the versions of those packages (and the recursive dependencies of those packages) to use, and then record them in a file--one that can be version controlled, sent to other people, etc."
   ]
  },
  {
   "cell_type": "markdown",
   "id": "fd412a57-05a9-4df0-b611-4e14ef055c63",
   "metadata": {},
   "source": [
    "## Let's Spin Up A Poetry Project\n",
    "\n",
    "First, let's create a directory for the project:\n"
   ]
  },
  {
   "cell_type": "code",
   "execution_count": 1,
   "id": "754249cb-401b-429b-a9af-0e0348a8e5e6",
   "metadata": {
    "tags": []
   },
   "outputs": [],
   "source": [
    "cd ~/Documents\n",
    "rm -rf poetry_demo\n",
    "mkdir poetry_demo\n",
    "cd poetry_demo\n",
    "pyenv local 3.10.9"
   ]
  },
  {
   "cell_type": "markdown",
   "id": "bb6c52d9-a38b-445e-9158-08e606959222",
   "metadata": {},
   "source": [
    "Now let's install Poetry:"
   ]
  },
  {
   "cell_type": "code",
   "execution_count": 2,
   "id": "ed0e061d-034e-4a18-b8ea-b2ec34560132",
   "metadata": {
    "collapsed": true,
    "jupyter": {
     "outputs_hidden": true
    },
    "tags": []
   },
   "outputs": [
    {
     "name": "stdout",
     "output_type": "stream",
     "text": [
      "Python 3.10.6\n",
      "Requirement already satisfied: poetry in /Users/conradcartmell/Library/Caches/pypoetry/virtualenvs/poetry-demo-ZEKb8TsL-py3.10/lib/python3.10/site-packages (1.4.2)\n",
      "Requirement already satisfied: tomlkit!=0.11.2,!=0.11.3,<1.0.0,>=0.11.1 in /Users/conradcartmell/Library/Caches/pypoetry/virtualenvs/poetry-demo-ZEKb8TsL-py3.10/lib/python3.10/site-packages (from poetry) (0.11.7)\n",
      "Requirement already satisfied: cleo<3.0.0,>=2.0.0 in /Users/conradcartmell/Library/Caches/pypoetry/virtualenvs/poetry-demo-ZEKb8TsL-py3.10/lib/python3.10/site-packages (from poetry) (2.0.1)\n",
      "Requirement already satisfied: trove-classifiers>=2022.5.19 in /Users/conradcartmell/Library/Caches/pypoetry/virtualenvs/poetry-demo-ZEKb8TsL-py3.10/lib/python3.10/site-packages (from poetry) (2023.3.9)\n",
      "Requirement already satisfied: cachecontrol[filecache]<0.13.0,>=0.12.9 in /Users/conradcartmell/Library/Caches/pypoetry/virtualenvs/poetry-demo-ZEKb8TsL-py3.10/lib/python3.10/site-packages (from poetry) (0.12.11)\n",
      "Requirement already satisfied: requests-toolbelt<0.11.0,>=0.9.1 in /Users/conradcartmell/Library/Caches/pypoetry/virtualenvs/poetry-demo-ZEKb8TsL-py3.10/lib/python3.10/site-packages (from poetry) (0.10.1)\n",
      "Requirement already satisfied: packaging>=20.4 in /Users/conradcartmell/Library/Caches/pypoetry/virtualenvs/poetry-demo-ZEKb8TsL-py3.10/lib/python3.10/site-packages (from poetry) (23.1)\n",
      "Requirement already satisfied: lockfile<0.13.0,>=0.12.2 in /Users/conradcartmell/Library/Caches/pypoetry/virtualenvs/poetry-demo-ZEKb8TsL-py3.10/lib/python3.10/site-packages (from poetry) (0.12.2)\n",
      "Requirement already satisfied: xattr<0.11.0,>=0.10.0 in /Users/conradcartmell/Library/Caches/pypoetry/virtualenvs/poetry-demo-ZEKb8TsL-py3.10/lib/python3.10/site-packages (from poetry) (0.10.1)\n",
      "Requirement already satisfied: poetry-core==1.5.2 in /Users/conradcartmell/Library/Caches/pypoetry/virtualenvs/poetry-demo-ZEKb8TsL-py3.10/lib/python3.10/site-packages (from poetry) (1.5.2)\n",
      "Collecting platformdirs<3.0.0,>=2.5.2\n",
      "  Using cached platformdirs-2.6.2-py3-none-any.whl (14 kB)\n",
      "Requirement already satisfied: keyring<24.0.0,>=23.9.0 in /Users/conradcartmell/Library/Caches/pypoetry/virtualenvs/poetry-demo-ZEKb8TsL-py3.10/lib/python3.10/site-packages (from poetry) (23.13.1)\n",
      "Requirement already satisfied: jsonschema<5.0.0,>=4.10.0 in /Users/conradcartmell/Library/Caches/pypoetry/virtualenvs/poetry-demo-ZEKb8TsL-py3.10/lib/python3.10/site-packages (from poetry) (4.17.3)\n",
      "Requirement already satisfied: poetry-plugin-export<2.0.0,>=1.3.0 in /Users/conradcartmell/Library/Caches/pypoetry/virtualenvs/poetry-demo-ZEKb8TsL-py3.10/lib/python3.10/site-packages (from poetry) (1.3.0)\n",
      "Requirement already satisfied: pyproject-hooks<2.0.0,>=1.0.0 in /Users/conradcartmell/Library/Caches/pypoetry/virtualenvs/poetry-demo-ZEKb8TsL-py3.10/lib/python3.10/site-packages (from poetry) (1.0.0)\n",
      "Requirement already satisfied: tomli<3.0.0,>=2.0.1 in /Users/conradcartmell/Library/Caches/pypoetry/virtualenvs/poetry-demo-ZEKb8TsL-py3.10/lib/python3.10/site-packages (from poetry) (2.0.1)\n",
      "Requirement already satisfied: crashtest<0.5.0,>=0.4.1 in /Users/conradcartmell/Library/Caches/pypoetry/virtualenvs/poetry-demo-ZEKb8TsL-py3.10/lib/python3.10/site-packages (from poetry) (0.4.1)\n",
      "Requirement already satisfied: pexpect<5.0.0,>=4.7.0 in /Users/conradcartmell/Library/Caches/pypoetry/virtualenvs/poetry-demo-ZEKb8TsL-py3.10/lib/python3.10/site-packages (from poetry) (4.8.0)\n",
      "Requirement already satisfied: shellingham<2.0,>=1.5 in /Users/conradcartmell/Library/Caches/pypoetry/virtualenvs/poetry-demo-ZEKb8TsL-py3.10/lib/python3.10/site-packages (from poetry) (1.5.0.post1)\n",
      "Requirement already satisfied: pkginfo<2.0.0,>=1.9.4 in /Users/conradcartmell/Library/Caches/pypoetry/virtualenvs/poetry-demo-ZEKb8TsL-py3.10/lib/python3.10/site-packages (from poetry) (1.9.6)\n",
      "Requirement already satisfied: urllib3<2.0.0,>=1.26.0 in /Users/conradcartmell/Library/Caches/pypoetry/virtualenvs/poetry-demo-ZEKb8TsL-py3.10/lib/python3.10/site-packages (from poetry) (1.26.15)\n",
      "Requirement already satisfied: installer<0.8.0,>=0.7.0 in /Users/conradcartmell/Library/Caches/pypoetry/virtualenvs/poetry-demo-ZEKb8TsL-py3.10/lib/python3.10/site-packages (from poetry) (0.7.0)\n",
      "Requirement already satisfied: virtualenv!=20.4.5,!=20.4.6,<21.0.0,>=20.4.3 in /Users/conradcartmell/Library/Caches/pypoetry/virtualenvs/poetry-demo-ZEKb8TsL-py3.10/lib/python3.10/site-packages (from poetry) (20.21.0)\n",
      "Requirement already satisfied: filelock<4.0.0,>=3.8.0 in /Users/conradcartmell/Library/Caches/pypoetry/virtualenvs/poetry-demo-ZEKb8TsL-py3.10/lib/python3.10/site-packages (from poetry) (3.11.0)\n",
      "Requirement already satisfied: requests<3.0,>=2.18 in /Users/conradcartmell/Library/Caches/pypoetry/virtualenvs/poetry-demo-ZEKb8TsL-py3.10/lib/python3.10/site-packages (from poetry) (2.28.2)\n",
      "Requirement already satisfied: html5lib<2.0,>=1.0 in /Users/conradcartmell/Library/Caches/pypoetry/virtualenvs/poetry-demo-ZEKb8TsL-py3.10/lib/python3.10/site-packages (from poetry) (1.1)\n",
      "Requirement already satisfied: build<0.11.0,>=0.10.0 in /Users/conradcartmell/Library/Caches/pypoetry/virtualenvs/poetry-demo-ZEKb8TsL-py3.10/lib/python3.10/site-packages (from poetry) (0.10.0)\n",
      "Requirement already satisfied: dulwich<0.22.0,>=0.21.2 in /Users/conradcartmell/Library/Caches/pypoetry/virtualenvs/poetry-demo-ZEKb8TsL-py3.10/lib/python3.10/site-packages (from poetry) (0.21.3)\n",
      "Requirement already satisfied: msgpack>=0.5.2 in /Users/conradcartmell/Library/Caches/pypoetry/virtualenvs/poetry-demo-ZEKb8TsL-py3.10/lib/python3.10/site-packages (from cachecontrol[filecache]<0.13.0,>=0.12.9->poetry) (1.0.5)\n",
      "Requirement already satisfied: rapidfuzz<3.0.0,>=2.2.0 in /Users/conradcartmell/Library/Caches/pypoetry/virtualenvs/poetry-demo-ZEKb8TsL-py3.10/lib/python3.10/site-packages (from cleo<3.0.0,>=2.0.0->poetry) (2.15.1)\n",
      "Requirement already satisfied: six>=1.9 in /Users/conradcartmell/Library/Caches/pypoetry/virtualenvs/poetry-demo-ZEKb8TsL-py3.10/lib/python3.10/site-packages (from html5lib<2.0,>=1.0->poetry) (1.16.0)\n",
      "Requirement already satisfied: webencodings in /Users/conradcartmell/Library/Caches/pypoetry/virtualenvs/poetry-demo-ZEKb8TsL-py3.10/lib/python3.10/site-packages (from html5lib<2.0,>=1.0->poetry) (0.5.1)\n",
      "Requirement already satisfied: attrs>=17.4.0 in /Users/conradcartmell/Library/Caches/pypoetry/virtualenvs/poetry-demo-ZEKb8TsL-py3.10/lib/python3.10/site-packages (from jsonschema<5.0.0,>=4.10.0->poetry) (22.2.0)\n",
      "Requirement already satisfied: pyrsistent!=0.17.0,!=0.17.1,!=0.17.2,>=0.14.0 in /Users/conradcartmell/Library/Caches/pypoetry/virtualenvs/poetry-demo-ZEKb8TsL-py3.10/lib/python3.10/site-packages (from jsonschema<5.0.0,>=4.10.0->poetry) (0.19.3)\n",
      "Requirement already satisfied: jaraco.classes in /Users/conradcartmell/Library/Caches/pypoetry/virtualenvs/poetry-demo-ZEKb8TsL-py3.10/lib/python3.10/site-packages (from keyring<24.0.0,>=23.9.0->poetry) (3.2.3)\n",
      "Requirement already satisfied: importlib-metadata>=4.11.4 in /Users/conradcartmell/Library/Caches/pypoetry/virtualenvs/poetry-demo-ZEKb8TsL-py3.10/lib/python3.10/site-packages (from keyring<24.0.0,>=23.9.0->poetry) (6.3.0)\n",
      "Requirement already satisfied: ptyprocess>=0.5 in /Users/conradcartmell/Library/Caches/pypoetry/virtualenvs/poetry-demo-ZEKb8TsL-py3.10/lib/python3.10/site-packages (from pexpect<5.0.0,>=4.7.0->poetry) (0.7.0)\n",
      "Requirement already satisfied: charset-normalizer<4,>=2 in /Users/conradcartmell/Library/Caches/pypoetry/virtualenvs/poetry-demo-ZEKb8TsL-py3.10/lib/python3.10/site-packages (from requests<3.0,>=2.18->poetry) (3.1.0)\n",
      "Requirement already satisfied: certifi>=2017.4.17 in /Users/conradcartmell/Library/Caches/pypoetry/virtualenvs/poetry-demo-ZEKb8TsL-py3.10/lib/python3.10/site-packages (from requests<3.0,>=2.18->poetry) (2022.12.7)\n",
      "Requirement already satisfied: idna<4,>=2.5 in /Users/conradcartmell/Library/Caches/pypoetry/virtualenvs/poetry-demo-ZEKb8TsL-py3.10/lib/python3.10/site-packages (from requests<3.0,>=2.18->poetry) (3.4)\n",
      "Requirement already satisfied: distlib<1,>=0.3.6 in /Users/conradcartmell/Library/Caches/pypoetry/virtualenvs/poetry-demo-ZEKb8TsL-py3.10/lib/python3.10/site-packages (from virtualenv!=20.4.5,!=20.4.6,<21.0.0,>=20.4.3->poetry) (0.3.6)\n",
      "Requirement already satisfied: cffi>=1.0 in /Users/conradcartmell/Library/Caches/pypoetry/virtualenvs/poetry-demo-ZEKb8TsL-py3.10/lib/python3.10/site-packages (from xattr<0.11.0,>=0.10.0->poetry) (1.15.1)\n",
      "Requirement already satisfied: pycparser in /Users/conradcartmell/Library/Caches/pypoetry/virtualenvs/poetry-demo-ZEKb8TsL-py3.10/lib/python3.10/site-packages (from cffi>=1.0->xattr<0.11.0,>=0.10.0->poetry) (2.21)\n",
      "Requirement already satisfied: zipp>=0.5 in /Users/conradcartmell/Library/Caches/pypoetry/virtualenvs/poetry-demo-ZEKb8TsL-py3.10/lib/python3.10/site-packages (from importlib-metadata>=4.11.4->keyring<24.0.0,>=23.9.0->poetry) (3.15.0)\n",
      "Requirement already satisfied: more-itertools in /Users/conradcartmell/Library/Caches/pypoetry/virtualenvs/poetry-demo-ZEKb8TsL-py3.10/lib/python3.10/site-packages (from jaraco.classes->keyring<24.0.0,>=23.9.0->poetry) (9.1.0)\n",
      "Installing collected packages: platformdirs\n",
      "  Attempting uninstall: platformdirs\n",
      "    Found existing installation: platformdirs 3.2.0\n",
      "    Uninstalling platformdirs-3.2.0:\n",
      "      Successfully uninstalled platformdirs-3.2.0\n",
      "Successfully installed platformdirs-2.6.2\n",
      "\n",
      "\u001b[1m[\u001b[0m\u001b[34;49mnotice\u001b[0m\u001b[1;39;49m]\u001b[0m\u001b[39;49m A new release of pip available: \u001b[0m\u001b[31;49m22.3.1\u001b[0m\u001b[39;49m -> \u001b[0m\u001b[32;49m23.0.1\u001b[0m\n",
      "\u001b[1m[\u001b[0m\u001b[34;49mnotice\u001b[0m\u001b[1;39;49m]\u001b[0m\u001b[39;49m To update, run: \u001b[0m\u001b[32;49mpip install --upgrade pip\u001b[0m\n"
     ]
    }
   ],
   "source": [
    "python --version\n",
    "python -m pip install poetry"
   ]
  },
  {
   "cell_type": "markdown",
   "id": "3bc75925-6115-4338-9f44-66180df5eb8d",
   "metadata": {},
   "source": [
    "Note: when invoking commands that you've installed with python, [always use `python -m <command>`](https://snarky.ca/why-you-should-use-python-m-pip/). This ensures that you're using `python`'s `pip` instead of _some other_ `pip`.\n",
    "\n",
    "Now that we've got poetry installed, let's use it to create a new project:\n",
    "\n",
    "```shell\n",
    "$ poetry init\n",
    "\n",
    "# We want to add the latest versions of:\n",
    "#  - pandas\n",
    "#  - jupyterlab\n",
    "#  - altair\n",
    "\n",
    "# We also want to add black[jupyter] as a dev dependency\n",
    "```\n",
    "\n",
    "Now you can create a lock file:"
   ]
  },
  {
   "cell_type": "code",
   "execution_count": null,
   "id": "88f433c2-4850-4240-bd13-c2f29579eab3",
   "metadata": {},
   "outputs": [],
   "source": [
    "poetry lock"
   ]
  },
  {
   "cell_type": "markdown",
   "id": "8bdf0f57-946e-45b3-bd96-b4fc402a472d",
   "metadata": {},
   "source": [
    "And then install the dependencies in the lockfile:"
   ]
  },
  {
   "cell_type": "code",
   "execution_count": null,
   "id": "47077ebc-1154-4e6e-9f52-324b583f4db0",
   "metadata": {},
   "outputs": [],
   "source": [
    "poetry install"
   ]
  },
  {
   "cell_type": "markdown",
   "id": "b8e0ef4c-1de6-496c-9acb-974bba6b6661",
   "metadata": {},
   "source": [
    "And enter the virtual environment defined in the lock file:"
   ]
  },
  {
   "cell_type": "code",
   "execution_count": null,
   "id": "531b85e3-b990-40fb-a53b-de48f144f45a",
   "metadata": {},
   "outputs": [],
   "source": [
    "poetry shell"
   ]
  },
  {
   "cell_type": "markdown",
   "id": "7267f313-d6fe-4d0d-b7cb-993b9f63bb3a",
   "metadata": {},
   "source": [
    "Now you can go ahead and open up jupyter lab:"
   ]
  },
  {
   "cell_type": "code",
   "execution_count": null,
   "id": "23cb062e-97c7-4944-ab2e-e69f986d8d14",
   "metadata": {},
   "outputs": [],
   "source": [
    "jupyter lab &> /dev/null"
   ]
  },
  {
   "cell_type": "markdown",
   "id": "380f5208-7019-4dae-b8e0-d2dfeda8e73c",
   "metadata": {},
   "source": [
    "Note that you _should_ version control your lockfile and pyproject.toml file. This way you can recover the state of your environment in the past."
   ]
  }
 ],
 "metadata": {
  "kernelspec": {
   "display_name": "Bash",
   "language": "bash",
   "name": "bash"
  },
  "language_info": {
   "codemirror_mode": "shell",
   "file_extension": ".sh",
   "mimetype": "text/x-sh",
   "name": "bash"
  }
 },
 "nbformat": 4,
 "nbformat_minor": 5
}
